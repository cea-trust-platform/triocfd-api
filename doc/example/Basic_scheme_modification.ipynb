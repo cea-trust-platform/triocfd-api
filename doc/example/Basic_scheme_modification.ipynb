{
 "cells": [
  {
   "cell_type": "markdown",
   "id": "ccdf2f41",
   "metadata": {},
   "source": [
    "# Basic scheme modification example - TrioAPI Python package"
   ]
  },
  {
   "cell_type": "markdown",
   "id": "5cb5163f",
   "metadata": {},
   "source": [
    "This is a simple notebook illustrating how to modify simple values with TrioAPI.\n",
    "\n"
   ]
  },
  {
   "cell_type": "markdown",
   "id": "db7c09ae",
   "metadata": {},
   "source": [
    "## Dataset collection "
   ]
  },
  {
   "cell_type": "markdown",
   "id": "9e5cc693",
   "metadata": {},
   "source": [
    "First, we have to import the TrioAPI."
   ]
  },
  {
   "cell_type": "code",
   "execution_count": 3,
   "id": "7a947860",
   "metadata": {},
   "outputs": [],
   "source": [
    "import trioapi as ta"
   ]
  },
  {
   "cell_type": "markdown",
   "id": "a5032b0c-89aa-482d-9914-814aeb70e118",
   "metadata": {},
   "source": [
    "Now we can use the dedicated function to transform a dataset to a Python object. \\\n",
    "In this example we want to modify the upwind_simplified.data file (we don't provide the .data in the argument of the function)."
   ]
  },
  {
   "cell_type": "code",
   "execution_count": 21,
   "id": "6c27569b-0979-4b3e-a04a-cc61d63cbcdb",
   "metadata": {},
   "outputs": [],
   "source": [
    "dataset = ta.get_jdd(\"Cas_turbulence\")"
   ]
  },
  {
   "cell_type": "markdown",
   "id": "2ed26917-c5b1-437a-a72e-19d4b4f54e60",
   "metadata": {},
   "source": [
    "It is possible to get the problem and the scheme as Python object to transform them."
   ]
  },
  {
   "cell_type": "code",
   "execution_count": 22,
   "id": "d928ba31-b0df-4b49-81d9-c8ffd3f9e95e",
   "metadata": {},
   "outputs": [],
   "source": [
    "pb = dataset.get(ta.PROBLEM)\n",
    "sch = dataset.get(ta.SCHEME)"
   ]
  },
  {
   "cell_type": "markdown",
   "id": "a52e1b02-681e-4d88-866c-45fb53b8e29b",
   "metadata": {},
   "source": [
    "Let's print all the attributes of the scheme."
   ]
  },
  {
   "cell_type": "code",
   "execution_count": 23,
   "id": "7ece0e6c-177f-46bc-a334-56cae5f5754e",
   "metadata": {},
   "outputs": [
    {
     "name": "stdout",
     "output_type": "stream",
     "text": [
      "tinit=0.0 tmax=None tcpumax=None dt_min=None dt_max=None dt_sauv=None dt_impr=1e-06 facsec='200' seuil_statio=None residuals=Residuals(norm=None, relative='1') diffusion_implicite=None seuil_diffusion_implicite=None impr_diffusion_implicite=None impr_extremums=None no_error_if_not_converged_diffusion_implicite=None no_conv_subiteration_diffusion_implicite=None dt_start=None nb_pas_dt_max=None niter_max_diffusion_implicite=None precision_impr=8 periode_sauvegarde_securite_en_heures=None no_check_disk_space=None disable_progress=None disable_dt_ev=None gnuplot_header=None max_iter_implicite=None solveur=Implicite(seuil_convergence_implicite=None, seuil_convergence_solveur=None, seuil_generation_solveur=None, seuil_verification_solveur=None, seuil_test_preliminaire_solveur=None, solveur=Gmres(impr=True, quiet=None, seuil=1e-12, diag=True, nb_it_max=3, controle_residu=None, save_matrice=None, dim_espace_krilov=None), no_qdm=None, nb_it_max=None, controle_residu=None, nb_corrections_max=None) facsec_max=200.0 resolution_monolithique=None\n"
     ]
    }
   ],
   "source": [
    "print(sch)"
   ]
  },
  {
   "cell_type": "markdown",
   "id": "72be9dca-7052-41c5-9d99-9e31f3e8da66",
   "metadata": {},
   "source": [
    "## Values modification"
   ]
  },
  {
   "cell_type": "markdown",
   "id": "6ecfd124-37a0-4df6-9909-841801cb62b5",
   "metadata": {},
   "source": [
    "We modify tmax and tinit of the scheme."
   ]
  },
  {
   "cell_type": "code",
   "execution_count": 24,
   "id": "d3ba3113-7f8a-4afa-ab72-43985b506170",
   "metadata": {},
   "outputs": [],
   "source": [
    "sch.tinit = 1.0\n",
    "sch.tmax = 4.0"
   ]
  },
  {
   "cell_type": "markdown",
   "id": "6ea5cefd-e590-44d8-95f4-46579e2497f9",
   "metadata": {},
   "source": [
    "## New dataset creation"
   ]
  },
  {
   "cell_type": "markdown",
   "id": "8a4a6f52-b586-4b4b-8d24-1d8eafa30658",
   "metadata": {},
   "source": [
    "After the modification we can write the modified dataset as a data file (with the name of our choice) with the following function."
   ]
  },
  {
   "cell_type": "code",
   "execution_count": 25,
   "id": "8023f3fa-c8e4-4f9e-8989-e6405c70e4e9",
   "metadata": {},
   "outputs": [
    {
     "name": "stdout",
     "output_type": "stream",
     "text": [
      "Data file updated with success\n"
     ]
    }
   ],
   "source": [
    "ta.write_data(dataset,\"Cas_scheme_modified\")"
   ]
  },
  {
   "cell_type": "markdown",
   "id": "632cfbd7-b2b7-4ecc-8b7b-3c4d83993f8a",
   "metadata": {},
   "source": [
    "We can whether check our file in the directory to check that it has been modified or we can use the API again."
   ]
  },
  {
   "cell_type": "code",
   "execution_count": 26,
   "id": "096a639b-7403-4054-b099-add9f84084d4",
   "metadata": {},
   "outputs": [
    {
     "name": "stdout",
     "output_type": "stream",
     "text": [
      "tinit=1.0 tmax=4.0 tcpumax=None dt_min=None dt_max=None dt_sauv=None dt_impr=1e-06 facsec='200' seuil_statio=None residuals=Residuals(norm=None, relative='1') diffusion_implicite=None seuil_diffusion_implicite=None impr_diffusion_implicite=None impr_extremums=None no_error_if_not_converged_diffusion_implicite=None no_conv_subiteration_diffusion_implicite=None dt_start=None nb_pas_dt_max=None niter_max_diffusion_implicite=None precision_impr=8 periode_sauvegarde_securite_en_heures=None no_check_disk_space=None disable_progress=None disable_dt_ev=None gnuplot_header=None max_iter_implicite=None solveur=Implicite(seuil_convergence_implicite=None, seuil_convergence_solveur=None, seuil_generation_solveur=None, seuil_verification_solveur=None, seuil_test_preliminaire_solveur=None, solveur=Gmres(impr=True, quiet=None, seuil=1e-12, diag=True, nb_it_max=3, controle_residu=None, save_matrice=None, dim_espace_krilov=None), no_qdm=None, nb_it_max=None, controle_residu=None, nb_corrections_max=None) facsec_max=200.0 resolution_monolithique=None\n"
     ]
    }
   ],
   "source": [
    "new_dataset = ta.get_jdd(\"Cas_scheme_modified\")\n",
    "sch = new_dataset.get(ta.SCHEME)\n",
    "print(sch)"
   ]
  },
  {
   "cell_type": "code",
   "execution_count": null,
   "id": "a0c9cbd0-edd7-4c3b-b280-d50a869243c3",
   "metadata": {},
   "outputs": [],
   "source": []
  }
 ],
 "metadata": {
  "kernelspec": {
   "display_name": "Python 3 (ipykernel)",
   "language": "python",
   "name": "python3"
  },
  "language_info": {
   "codemirror_mode": {
    "name": "ipython",
    "version": 3
   },
   "file_extension": ".py",
   "mimetype": "text/x-python",
   "name": "python",
   "nbconvert_exporter": "python",
   "pygments_lexer": "ipython3",
   "version": "3.12.3"
  }
 },
 "nbformat": 4,
 "nbformat_minor": 5
}
