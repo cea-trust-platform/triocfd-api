{
 "cells": [
  {
   "cell_type": "markdown",
   "id": "256ad49d-2ab5-4c59-bf80-347b03489b0e",
   "metadata": {},
   "source": [
    "# Discretization modification example - TrioAPI Python package"
   ]
  },
  {
   "cell_type": "markdown",
   "id": "deeefcf0-1c29-4f56-b14b-f4dd8e1f1b5e",
   "metadata": {},
   "source": [
    "This is a simple notebook illustrating how to modify the discretization scheme with TrioAPI.\n"
   ]
  },
  {
   "cell_type": "markdown",
   "id": "07b636ad-3231-417a-87a9-f07eb716006e",
   "metadata": {},
   "source": [
    "## Dataset collection "
   ]
  },
  {
   "cell_type": "code",
   "execution_count": 3,
   "id": "46af835c-34ea-446a-9add-8a3a4e688db9",
   "metadata": {},
   "outputs": [],
   "source": [
    "import trioapi as ta\n",
    "import trioapi.trustify_gen_pyd as tgp\n",
    "dataset = ta.get_jdd(\"Cas_turbulence\")\n",
    "scheme = dataset.get(ta.SCHEME)"
   ]
  },
  {
   "cell_type": "markdown",
   "id": "a7f831e9-0054-4f53-938c-ab3742beab22",
   "metadata": {},
   "source": [
    "## Current scheme"
   ]
  },
  {
   "cell_type": "markdown",
   "id": "c5a84ded-ebf5-4b9b-a9ec-d52f92e2417d",
   "metadata": {},
   "source": [
    "We can see which type of discretizationw e are using in the data file for the moment."
   ]
  },
  {
   "cell_type": "code",
   "execution_count": 5,
   "id": "3743edcb-e2de-437e-9942-da6192a480f9",
   "metadata": {},
   "outputs": [
    {
     "name": "stdout",
     "output_type": "stream",
     "text": [
      "<class 'trioapi.trustify_gen_pyd.Schema_euler_implicite'>\n"
     ]
    }
   ],
   "source": [
    "print(type(scheme))"
   ]
  },
  {
   "cell_type": "markdown",
   "id": "6588f75b-3b4c-4b81-b2fb-65a3d73f88d4",
   "metadata": {},
   "source": [
    "It is possible to see every discretization scheme available in trustify:"
   ]
  },
  {
   "cell_type": "code",
   "execution_count": 7,
   "id": "ca4febd0-f6ef-40e1-a545-78b6e7d46ade",
   "metadata": {},
   "outputs": [
    {
     "data": {
      "text/plain": [
       "[trioapi.trustify_gen_pyd.Euler_scheme,\n",
       " trioapi.trustify_gen_pyd.Implicit_euler_steady_scheme,\n",
       " trioapi.trustify_gen_pyd.Leap_frog,\n",
       " trioapi.trustify_gen_pyd.Rk3_ft,\n",
       " trioapi.trustify_gen_pyd.Runge_kutta_ordre_2,\n",
       " trioapi.trustify_gen_pyd.Runge_kutta_ordre_2_classique,\n",
       " trioapi.trustify_gen_pyd.Runge_kutta_ordre_3,\n",
       " trioapi.trustify_gen_pyd.Runge_kutta_ordre_3_classique,\n",
       " trioapi.trustify_gen_pyd.Runge_kutta_ordre_4,\n",
       " trioapi.trustify_gen_pyd.Runge_kutta_ordre_4_classique,\n",
       " trioapi.trustify_gen_pyd.Runge_kutta_ordre_4_classique_3_8,\n",
       " trioapi.trustify_gen_pyd.Runge_kutta_rationnel_ordre_2,\n",
       " trioapi.trustify_gen_pyd.Sch_cn_ex_iteratif,\n",
       " trioapi.trustify_gen_pyd.Sch_cn_iteratif,\n",
       " trioapi.trustify_gen_pyd.Schema_adams_bashforth_order_2,\n",
       " trioapi.trustify_gen_pyd.Schema_adams_bashforth_order_3,\n",
       " trioapi.trustify_gen_pyd.Schema_adams_moulton_order_2,\n",
       " trioapi.trustify_gen_pyd.Schema_adams_moulton_order_3,\n",
       " trioapi.trustify_gen_pyd.Schema_backward_differentiation_order_2,\n",
       " trioapi.trustify_gen_pyd.Schema_backward_differentiation_order_3,\n",
       " trioapi.trustify_gen_pyd.Schema_euler_implicite,\n",
       " trioapi.trustify_gen_pyd.Schema_implicite_base,\n",
       " trioapi.trustify_gen_pyd.Schema_phase_field,\n",
       " trioapi.trustify_gen_pyd.Schema_predictor_corrector,\n",
       " trioapi.trustify_gen_pyd.Scheme_euler_explicite_ale]"
      ]
     },
     "execution_count": 7,
     "metadata": {},
     "output_type": "execute_result"
    }
   ],
   "source": [
    "ta.get_subclass(\"Schema_temps_base\")"
   ]
  },
  {
   "cell_type": "markdown",
   "id": "dec356fc-7db4-48f2-b702-3eb9823b4a34",
   "metadata": {},
   "source": [
    "Like in the next cell it is possible to use the dedicated function to change the discretization scheme in the dataset. The new scheme will have the same common attributes from the initial one. For example, we will modify the the Schema_euler_implicite by a Euler_scheme, we just have to write the class as a string with the exact same name:"
   ]
  },
  {
   "cell_type": "code",
   "execution_count": 8,
   "id": "2393bc0e-5677-43a1-afdb-3d9e7a5e4417",
   "metadata": {},
   "outputs": [],
   "source": [
    "ta.change_scheme(dataset,\"Euler_scheme\")"
   ]
  },
  {
   "cell_type": "markdown",
   "id": "7c583449-a661-43af-82b5-f9b698f09cfb",
   "metadata": {},
   "source": [
    "Now we can watch again the type of the scheme object and observe that it has been changed:"
   ]
  },
  {
   "cell_type": "code",
   "execution_count": 9,
   "id": "daf5f0d3-1678-458a-91a9-7dba5c3f5c8c",
   "metadata": {},
   "outputs": [
    {
     "name": "stdout",
     "output_type": "stream",
     "text": [
      "<class 'trioapi.trustify_gen_pyd.Euler_scheme'>\n"
     ]
    }
   ],
   "source": [
    "new_scheme = dataset.get(ta.SCHEME)\n",
    "print(type(new_scheme))"
   ]
  }
 ],
 "metadata": {
  "kernelspec": {
   "display_name": "Python 3 (ipykernel)",
   "language": "python",
   "name": "python3"
  },
  "language_info": {
   "codemirror_mode": {
    "name": "ipython",
    "version": 3
   },
   "file_extension": ".py",
   "mimetype": "text/x-python",
   "name": "python",
   "nbconvert_exporter": "python",
   "pygments_lexer": "ipython3",
   "version": "3.12.3"
  }
 },
 "nbformat": 4,
 "nbformat_minor": 5
}
