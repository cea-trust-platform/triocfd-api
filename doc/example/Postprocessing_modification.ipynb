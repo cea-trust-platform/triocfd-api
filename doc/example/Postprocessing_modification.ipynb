{
 "cells": [
  {
   "cell_type": "markdown",
   "id": "ccdf2f41",
   "metadata": {},
   "source": [
    "# Post-processing modification example - TrioAPI Python package"
   ]
  },
  {
   "cell_type": "markdown",
   "id": "5cb5163f",
   "metadata": {},
   "source": [
    "This is a simple notebook illustrating how to manage problem postprocessing using TrioAPI.\n",
    "\n"
   ]
  },
  {
   "cell_type": "markdown",
   "id": "db7c09ae",
   "metadata": {},
   "source": [
    "## Dataset collection"
   ]
  },
  {
   "cell_type": "markdown",
   "id": "9e5cc693",
   "metadata": {},
   "source": [
    "As shown in the first notebook, we have to import trioapi, collect the dataset and the problem."
   ]
  },
  {
   "cell_type": "code",
   "execution_count": 4,
   "id": "7a947860",
   "metadata": {},
   "outputs": [],
   "source": [
    "import trioapi as ta\n",
    "dataset = ta.get_jdd(\"Cas_turbulence\",\".\")\n",
    "pb = dataset.get(ta.PROBLEM)"
   ]
  },
  {
   "cell_type": "markdown",
   "id": "7652cd8e-cffd-49f8-a519-3f634dcebf52",
   "metadata": {},
   "source": [
    "We also import trustify_gen_pyd to manage generated classes."
   ]
  },
  {
   "cell_type": "code",
   "execution_count": 5,
   "id": "dae64413-061f-4863-b84f-ae8fb186f250",
   "metadata": {},
   "outputs": [],
   "source": [
    "import trioapi.trustify_gen_pyd as tgp"
   ]
  },
  {
   "cell_type": "markdown",
   "id": "a5032b0c-89aa-482d-9914-814aeb70e118",
   "metadata": {},
   "source": [
    "pb is a python object so we can access to its attributes and here we want to modify postoprocessing."
   ]
  },
  {
   "cell_type": "code",
   "execution_count": 6,
   "id": "6c27569b-0979-4b3e-a04a-cc61d63cbcdb",
   "metadata": {},
   "outputs": [],
   "source": [
    "pb_postprocessing=pb.postraitement"
   ]
  },
  {
   "cell_type": "markdown",
   "id": "a5df9035-b0b3-4ccd-8c65-b163c802f1f2",
   "metadata": {},
   "source": [
    "## Modification"
   ]
  },
  {
   "cell_type": "markdown",
   "id": "2ed26917-c5b1-437a-a72e-19d4b4f54e60",
   "metadata": {},
   "source": [
    "For postprocessing there are a lot of attributes, some are classic values which can be modified directly like in the basic scheme modification notebook. Other are complex python class which can be managed using functions in the API."
   ]
  },
  {
   "cell_type": "markdown",
   "id": "8d90a183-b0de-4172-aed7-4344b864d0ba",
   "metadata": {},
   "source": [
    "### Simple modification"
   ]
  },
  {
   "cell_type": "markdown",
   "id": "26f61ab5-6279-48eb-b94e-ef4eb19614af",
   "metadata": {},
   "source": [
    "We can for example modify the format of post processing file."
   ]
  },
  {
   "cell_type": "code",
   "execution_count": 7,
   "id": "d928ba31-b0df-4b49-81d9-c8ffd3f9e95e",
   "metadata": {},
   "outputs": [],
   "source": [
    "pb_postprocessing.format = 'lata'"
   ]
  },
  {
   "cell_type": "markdown",
   "id": "a52e1b02-681e-4d88-866c-45fb53b8e29b",
   "metadata": {},
   "source": [
    "### Probe modification"
   ]
  },
  {
   "cell_type": "markdown",
   "id": "e29fb047-9f22-4078-a78b-0aea6451d075",
   "metadata": {},
   "source": [
    "We can use the API to create points and segments python objects for probes. \\\n",
    "For points we have to give a list of coordinates for each points (list of 2 arguments). \\\n",
    "For segments we have to give the number of points and the starting and ending coordinates."
   ]
  },
  {
   "cell_type": "code",
   "execution_count": 8,
   "id": "7ece0e6c-177f-46bc-a334-56cae5f5754e",
   "metadata": {},
   "outputs": [],
   "source": [
    "points = ta.create_probe_points([[0.5,1],[2,1],[0.8,0.5]])\n",
    "segment = ta.create_probe_segment(50,[0,0.8],[1,1.2])"
   ]
  },
  {
   "cell_type": "markdown",
   "id": "6ecfd124-37a0-4df6-9909-841801cb62b5",
   "metadata": {},
   "source": [
    "Then we can create 2 probes : "
   ]
  },
  {
   "cell_type": "code",
   "execution_count": 9,
   "id": "d3ba3113-7f8a-4afa-ab72-43985b506170",
   "metadata": {},
   "outputs": [],
   "source": [
    "probe1 = ta.create_probe('probe1',None,'vitesse','0.05',points)\n",
    "probe2 = ta.create_probe('probe2',None,'pression','0.005',segment)"
   ]
  },
  {
   "cell_type": "markdown",
   "id": "8a4a6f52-b586-4b4b-8d24-1d8eafa30658",
   "metadata": {},
   "source": [
    "Now we can add them to the problem:"
   ]
  },
  {
   "cell_type": "code",
   "execution_count": 10,
   "id": "8023f3fa-c8e4-4f9e-8989-e6405c70e4e9",
   "metadata": {},
   "outputs": [],
   "source": [
    "ta.add_probe(pb,probe1)\n",
    "ta.add_probe(pb,probe2)"
   ]
  },
  {
   "cell_type": "markdown",
   "id": "632cfbd7-b2b7-4ecc-8b7b-3c4d83993f8a",
   "metadata": {},
   "source": [
    "We can check it in the problem."
   ]
  },
  {
   "cell_type": "code",
   "execution_count": 11,
   "id": "096a639b-7403-4054-b099-add9f84084d4",
   "metadata": {
    "scrolled": true
   },
   "outputs": [
    {
     "name": "stdout",
     "output_type": "stream",
     "text": [
      "[Sonde(nom_sonde='nut_max', special=None, nom_inco='nut_max', mperiode='periode', prd=1e-06, type=Numero_elem_sur_maitre(numero=0)), Sonde(nom_sonde='vitesse_axe', special=None, nom_inco='vitesse', mperiode='periode', prd=1e-06, type=Segment(nbr=100, point_deb=Un_point(pos=[-10.87, 4.2]), point_fin=Un_point(pos=[0.0, 4.2]))), Sonde(nom_sonde='keps_axe', special=None, nom_inco='k_eps', mperiode='periode', prd=1e-06, type=Segment(nbr=100, point_deb=Un_point(pos=[-10.87, 4.2]), point_fin=Un_point(pos=[0.0, 4.2]))), Sonde(nom_sonde='u_x-6', special=None, nom_inco='vitesse', mperiode='periode', prd=1e-06, type=Segment(nbr=10, point_deb=Un_point(pos=[-6.0, 0.0]), point_fin=Un_point(pos=[-6.0, 4.7]))), Sonde(nom_sonde='u_x03', special=None, nom_inco='vitesse', mperiode='periode', prd=1e-06, type=Segment(nbr=10, point_deb=Un_point(pos=[3.0, 0.0]), point_fin=Un_point(pos=[3.0, 4.7]))), Sonde(nom_sonde='u_x06', special=None, nom_inco='vitesse', mperiode='periode', prd=1e-06, type=Segment(nbr=10, point_deb=Un_point(pos=[6.0, 0.0]), point_fin=Un_point(pos=[6.0, 4.7]))), Sonde(nom_sonde='u_x14', special=None, nom_inco='vitesse', mperiode='periode', prd=1e-06, type=Segment(nbr=10, point_deb=Un_point(pos=[14.0, 0.0]), point_fin=Un_point(pos=[14.0, 4.7]))), Sonde(nom_sonde='u_x17', special=None, nom_inco='vitesse', mperiode='periode', prd=1e-06, type=Segment(nbr=10, point_deb=Un_point(pos=[17.0, 0.0]), point_fin=Un_point(pos=[17.0, 4.7]))), Sonde(nom_sonde='u_x20', special=None, nom_inco='vitesse', mperiode='periode', prd=1e-06, type=Segment(nbr=10, point_deb=Un_point(pos=[20.0, 0.0]), point_fin=Un_point(pos=[20.0, 4.7]))), Sonde(nom_sonde='u_x24', special=None, nom_inco='vitesse', mperiode='periode', prd=1e-06, type=Segment(nbr=10, point_deb=Un_point(pos=[24.0, 0.0]), point_fin=Un_point(pos=[24.0, 4.7]))), Sonde(nom_sonde='u_x27', special=None, nom_inco='vitesse', mperiode='periode', prd=1e-06, type=Segment(nbr=10, point_deb=Un_point(pos=[27.0, 0.0]), point_fin=Un_point(pos=[27.0, 4.7]))), Sonde(nom_sonde='u_x30', special=None, nom_inco='vitesse', mperiode='periode', prd=1e-06, type=Segment(nbr=10, point_deb=Un_point(pos=[30.0, 0.0]), point_fin=Un_point(pos=[30.0, 4.7]))), Sonde(nom_sonde='u_x34', special=None, nom_inco='vitesse', mperiode='periode', prd=1e-06, type=Segment(nbr=10, point_deb=Un_point(pos=[34.0, 0.0]), point_fin=Un_point(pos=[34.0, 4.7]))), Sonde(nom_sonde='u_x40', special=None, nom_inco='vitesse', mperiode='periode', prd=1e-06, type=Segment(nbr=10, point_deb=Un_point(pos=[40.0, 0.0]), point_fin=Un_point(pos=[40.0, 4.7]))), Sonde(nom_sonde='u_x47', special=None, nom_inco='vitesse', mperiode='periode', prd=1e-06, type=Segment(nbr=10, point_deb=Un_point(pos=[47.0, 0.0]), point_fin=Un_point(pos=[47.0, 4.7]))), Sonde(nom_sonde='u_x53', special=None, nom_inco='vitesse', mperiode='periode', prd=1e-06, type=Segment(nbr=10, point_deb=Un_point(pos=[53.0, 0.0]), point_fin=Un_point(pos=[53.0, 4.7]))), Sonde(nom_sonde='ke_x-6', special=None, nom_inco='k_eps', mperiode='periode', prd=1e-06, type=Position_like(autre_sonde='u_x-6')), Sonde(nom_sonde='ke_x03', special=None, nom_inco='k_eps', mperiode='periode', prd=1e-06, type=Position_like(autre_sonde='u_x03')), Sonde(nom_sonde='ke_x06', special=None, nom_inco='k_eps', mperiode='periode', prd=1e-06, type=Position_like(autre_sonde='u_x06')), Sonde(nom_sonde='ke_x14', special=None, nom_inco='k_eps', mperiode='periode', prd=1e-06, type=Position_like(autre_sonde='u_x14')), Sonde(nom_sonde='ke_x17', special=None, nom_inco='k_eps', mperiode='periode', prd=1e-06, type=Position_like(autre_sonde='u_x17')), Sonde(nom_sonde='ke_x20', special=None, nom_inco='k_eps', mperiode='periode', prd=1e-06, type=Position_like(autre_sonde='u_x20')), Sonde(nom_sonde='ke_x24', special=None, nom_inco='k_eps', mperiode='periode', prd=1e-06, type=Position_like(autre_sonde='u_x24')), Sonde(nom_sonde='ke_x27', special=None, nom_inco='k_eps', mperiode='periode', prd=1e-06, type=Position_like(autre_sonde='u_x27')), Sonde(nom_sonde='ke_x30', special=None, nom_inco='k_eps', mperiode='periode', prd=1e-06, type=Position_like(autre_sonde='u_x30')), Sonde(nom_sonde='ke_x34', special=None, nom_inco='k_eps', mperiode='periode', prd=1e-06, type=Position_like(autre_sonde='u_x34')), Sonde(nom_sonde='ke_x40', special=None, nom_inco='k_eps', mperiode='periode', prd=1e-06, type=Position_like(autre_sonde='u_x40')), Sonde(nom_sonde='ke_x47', special=None, nom_inco='k_eps', mperiode='periode', prd=1e-06, type=Position_like(autre_sonde='u_x47')), Sonde(nom_sonde='ke_x53', special=None, nom_inco='k_eps', mperiode='periode', prd=1e-06, type=Position_like(autre_sonde='u_x53')), Sonde(nom_sonde='probe1', special=None, nom_inco='vitesse', mperiode='periode', prd=0.05, type=Points(points=[Un_point(pos=[0.5, 1.0]), Un_point(pos=[2.0, 1.0]), Un_point(pos=[0.8, 0.5])])), Sonde(nom_sonde='probe2', special=None, nom_inco='pression', mperiode='periode', prd=0.005, type=Segment(nbr=50, point_deb=Un_point(pos=[0.0, 0.8]), point_fin=Un_point(pos=[1.0, 1.2])))]\n"
     ]
    }
   ],
   "source": [
    "print(pb_postprocessing.sondes)"
   ]
  },
  {
   "cell_type": "markdown",
   "id": "2e915731-e4c0-4585-8330-5b6ef7072e0a",
   "metadata": {},
   "source": [
    "There is the list of probes and we can see that the two last are the on that we just added. \\\n",
    "If we want to change a point we can do it like that :"
   ]
  },
  {
   "cell_type": "code",
   "execution_count": 12,
   "id": "75889a97-27b9-4bdd-9789-68f4d779a91d",
   "metadata": {},
   "outputs": [
    {
     "name": "stdout",
     "output_type": "stream",
     "text": [
      "nom_sonde='probe1' special=None nom_inco='vitesse' mperiode='periode' prd=0.05 type=Points(points=[Un_point(pos=[0.8, 2.0]), Un_point(pos=[1.0, 1.3]), Un_point(pos=[1.0, 0.0])])\n"
     ]
    }
   ],
   "source": [
    "index=ta.get_probe_index_by_name(pb,\"probe1\")\n",
    "new_points  = ta.create_probe_points([[0.8,2],[1,1.3],[1,0]])\n",
    "pb_postprocessing.sondes[index].type= new_points\n",
    "print(pb_postprocessing.sondes[index])"
   ]
  },
  {
   "cell_type": "markdown",
   "id": "de21eee1-b1ff-4b5b-a7a0-46c475ab7130",
   "metadata": {},
   "source": [
    "### Fields to be postprocessed modification"
   ]
  },
  {
   "cell_type": "markdown",
   "id": "c4d4756d-7a36-4660-bb18-1050a0feabcf",
   "metadata": {},
   "source": [
    "The API also provides function to add fields to be postprocessed in the list. \n"
   ]
  },
  {
   "cell_type": "code",
   "execution_count": 13,
   "id": "5b06bfe3-1fa3-4682-9cb7-2922a388a5be",
   "metadata": {},
   "outputs": [],
   "source": [
    "ta.add_postprocess_field(pb, \"pression_pa\", \"elem\")"
   ]
  },
  {
   "cell_type": "code",
   "execution_count": 14,
   "id": "d34d15f9-7802-49a0-893e-30ed30ced922",
   "metadata": {},
   "outputs": [
    {
     "name": "stdout",
     "output_type": "stream",
     "text": [
      "format='binaire' mot='dt_post' period='1e6' champs=[Champ_a_post(champ='vitesse', localisation='elem'), Champ_a_post(champ='viscosite_turbulente', localisation='elem'), Champ_a_post(champ='k_eps', localisation='elem'), Champ_a_post(champ='pression_pa', localisation='elem'), Champ_a_post(champ='y_plus', localisation='elem'), Champ_a_post(champ='pression_pa', localisation='elem')]\n"
     ]
    }
   ],
   "source": [
    "print(pb_postprocessing.champs)"
   ]
  },
  {
   "cell_type": "markdown",
   "id": "2e0e58e1-d66b-4a8c-b6d8-2c2b1ed43f83",
   "metadata": {},
   "source": [
    "### Definition champs"
   ]
  },
  {
   "cell_type": "markdown",
   "id": "8ea8bacd-cb2a-412c-8962-7c74c87a8076",
   "metadata": {},
   "source": [
    "Definition champs is a list so we can access to the model fields of an element of the list to see how it is built."
   ]
  },
  {
   "cell_type": "code",
   "execution_count": 15,
   "id": "236cf0ce-80d3-4831-a32c-1e11825abcf4",
   "metadata": {},
   "outputs": [
    {
     "data": {
      "text/plain": [
       "{'name': FieldInfo(annotation=str, required=False, default='', description='The name of the new created field.'),\n",
       " 'champ_generique': FieldInfo(annotation=Champ_generique_base, required=False, default_factory=<lambda>, description='not_set')}"
      ]
     },
     "execution_count": 15,
     "metadata": {},
     "output_type": "execute_result"
    }
   ],
   "source": [
    "pb_postprocessing.definition_champs[0].model_fields"
   ]
  },
  {
   "cell_type": "markdown",
   "id": "870bef14-4299-465d-96f8-3ad363396af5",
   "metadata": {},
   "source": [
    "We need to define a champ_generique, we can see all the existing class to use the one adapted to what we want to do:"
   ]
  },
  {
   "cell_type": "code",
   "execution_count": null,
   "id": "801ee145-95cd-42ac-9c96-15223187c8ba",
   "metadata": {},
   "outputs": [],
   "source": [
    "ta.get_subclass(\"Champ_generique_base\")"
   ]
  },
  {
   "cell_type": "markdown",
   "id": "78926d8c-52c7-4d94-a066-78992f295656",
   "metadata": {},
   "source": [
    "We can check informations about the reduction 0d class and ref champ."
   ]
  },
  {
   "cell_type": "code",
   "execution_count": 8,
   "id": "2af0f8d0-4e8a-454f-86b3-ccc52909f6d0",
   "metadata": {},
   "outputs": [
    {
     "ename": "NameError",
     "evalue": "name 'tgp' is not defined",
     "output_type": "error",
     "traceback": [
      "\u001b[31m---------------------------------------------------------------------------\u001b[39m",
      "\u001b[31mNameError\u001b[39m                                 Traceback (most recent call last)",
      "\u001b[36mCell\u001b[39m\u001b[36m \u001b[39m\u001b[32mIn[8]\u001b[39m\u001b[32m, line 1\u001b[39m\n\u001b[32m----> \u001b[39m\u001b[32m1\u001b[39m \u001b[43mtgp\u001b[49m.Reduction_0d.model_fields\n",
      "\u001b[31mNameError\u001b[39m: name 'tgp' is not defined"
     ]
    }
   ],
   "source": [
    " tgp.Reduction_0d.model_fields"
   ]
  },
  {
   "cell_type": "code",
   "execution_count": null,
   "id": "0bb1c95f-b75f-48ed-a026-09e08331650d",
   "metadata": {},
   "outputs": [],
   "source": [
    " tgp.Refchamp.model_fields"
   ]
  },
  {
   "cell_type": "markdown",
   "id": "36779aea-00d1-43ed-893e-f275885fed3a",
   "metadata": {},
   "source": [
    "With these informations we can create a Reduction_0d with a Refchamp."
   ]
  },
  {
   "cell_type": "code",
   "execution_count": 9,
   "id": "ed834e3d-ff5e-414c-bb0f-58841ee548cd",
   "metadata": {},
   "outputs": [
    {
     "ename": "NameError",
     "evalue": "name 'tgp' is not defined",
     "output_type": "error",
     "traceback": [
      "\u001b[31m---------------------------------------------------------------------------\u001b[39m",
      "\u001b[31mNameError\u001b[39m                                 Traceback (most recent call last)",
      "\u001b[36mCell\u001b[39m\u001b[36m \u001b[39m\u001b[32mIn[9]\u001b[39m\u001b[32m, line 1\u001b[39m\n\u001b[32m----> \u001b[39m\u001b[32m1\u001b[39m refchamp = \u001b[43mtgp\u001b[49m.Refchamp(nom_source=\u001b[33m\"\u001b[39m\u001b[33mpb_champ\u001b[39m\u001b[33m\"\u001b[39m,pb_champ=tgp.Deuxmots(mot_1=\u001b[33m\"\u001b[39m\u001b[33mpb\u001b[39m\u001b[33m\"\u001b[39m,mot_2=\u001b[33m\"\u001b[39m\u001b[33mvitesse\u001b[39m\u001b[33m\"\u001b[39m))\n",
      "\u001b[31mNameError\u001b[39m: name 'tgp' is not defined"
     ]
    }
   ],
   "source": [
    "refchamp = tgp.Refchamp(nom_source=\"pb_champ\",pb_champ=tgp.Deuxmots(mot_1=\"pb\",mot_2=\"vitesse\"))"
   ]
  },
  {
   "cell_type": "code",
   "execution_count": null,
   "id": "121b98ac-de2e-4c80-952e-96effa0a07dd",
   "metadata": {},
   "outputs": [],
   "source": [
    "new_definition_champs = tgp.Definition_champ(name='vit_min', champ_generique=tgp.Reduction_0d(source=refchamp, sources=None, nom_source=None, source_reference=None, sources_reference=None, methode='min'))"
   ]
  },
  {
   "cell_type": "code",
   "execution_count": null,
   "id": "1388d5c2-2188-4e48-8a4e-b7beb6a1d261",
   "metadata": {},
   "outputs": [],
   "source": [
    "pb_postprocessing.definition_champs.append(new_definition_champs)"
   ]
  },
  {
   "cell_type": "code",
   "execution_count": 10,
   "id": "41cd5de2-86b1-4196-8e4e-2b01a3a8d490",
   "metadata": {},
   "outputs": [
    {
     "ename": "NameError",
     "evalue": "name 'dataset' is not defined",
     "output_type": "error",
     "traceback": [
      "\u001b[31m---------------------------------------------------------------------------\u001b[39m",
      "\u001b[31mNameError\u001b[39m                                 Traceback (most recent call last)",
      "\u001b[36mCell\u001b[39m\u001b[36m \u001b[39m\u001b[32mIn[10]\u001b[39m\u001b[32m, line 1\u001b[39m\n\u001b[32m----> \u001b[39m\u001b[32m1\u001b[39m ta.write_data(\u001b[43mdataset\u001b[49m,\u001b[33m\"\u001b[39m\u001b[33mCas_turbulence_modified\u001b[39m\u001b[33m\"\u001b[39m)\n",
      "\u001b[31mNameError\u001b[39m: name 'dataset' is not defined"
     ]
    }
   ],
   "source": [
    "ta.write_data(dataset,\"Cas_turbulence_modified\")"
   ]
  }
 ],
 "metadata": {
  "kernelspec": {
   "display_name": "Python 3 (ipykernel)",
   "language": "python",
   "name": "python3"
  },
  "language_info": {
   "codemirror_mode": {
    "name": "ipython",
    "version": 3
   },
   "file_extension": ".py",
   "mimetype": "text/x-python",
   "name": "python",
   "nbconvert_exporter": "python",
   "pygments_lexer": "ipython3",
   "version": "3.12.3"
  }
 },
 "nbformat": 4,
 "nbformat_minor": 5
}
